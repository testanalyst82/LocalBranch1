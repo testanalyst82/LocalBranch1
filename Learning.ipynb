{
  "nbformat": 4,
  "nbformat_minor": 0,
  "metadata": {
    "colab": {
      "provenance": [],
      "authorship_tag": "ABX9TyMszdnczlfG7jvl9jtbe2hw",
      "include_colab_link": true
    },
    "kernelspec": {
      "name": "python3",
      "display_name": "Python 3"
    },
    "language_info": {
      "name": "python"
    }
  },
  "cells": [
    {
      "cell_type": "markdown",
      "metadata": {
        "id": "view-in-github",
        "colab_type": "text"
      },
      "source": [
        "<a href=\"https://colab.research.google.com/github/testanalyst82/LocalBranch1/blob/master/Learning.ipynb\" target=\"_parent\"><img src=\"https://colab.research.google.com/assets/colab-badge.svg\" alt=\"Open In Colab\"/></a>"
      ]
    },
    {
      "cell_type": "code",
      "execution_count": 28,
      "metadata": {
        "id": "sp9ggr7mOaW2"
      },
      "outputs": [],
      "source": [
        "def howAreYou():\n",
        "  print(\"I am feeling bored\")"
      ]
    },
    {
      "cell_type": "code",
      "source": [
        "def howAreYou(name):\n",
        "  print(\"{} is feeling bored\".format(name)) "
      ],
      "metadata": {
        "id": "QiRKWbItRjw1"
      },
      "execution_count": 29,
      "outputs": []
    },
    {
      "cell_type": "code",
      "source": [
        "# f-string format\n",
        "def howAreYouAgain(name):\n",
        "  \"\"\"\n",
        "  trying f-string and using docstring for reference\n",
        "  \"\"\"\n",
        "  print(f\"{name} is feeling bored\") "
      ],
      "metadata": {
        "id": "K1kWqMyLX09T"
      },
      "execution_count": 30,
      "outputs": []
    },
    {
      "cell_type": "code",
      "source": [
        "def talkToEachOther(name1,name2):\n",
        "  print(\"{} says, Hello {}!\".format(name1,name2))"
      ],
      "metadata": {
        "id": "2IyOrC11W4Jh"
      },
      "execution_count": 19,
      "outputs": []
    },
    {
      "cell_type": "code",
      "source": [
        "# all the value entered through input is a string\n",
        "name=input(\"Enter your name: \")\n",
        "howAreYou(name)"
      ],
      "metadata": {
        "colab": {
          "base_uri": "https://localhost:8080/"
        },
        "id": "ge95X1LbYyAA",
        "outputId": "c7ec7ecc-ed7b-4f56-f1e7-1f9699d5ff24"
      },
      "execution_count": 31,
      "outputs": [
        {
          "output_type": "stream",
          "name": "stdout",
          "text": [
            "Enter your name: pramod\n",
            "pramod is feeling bored\n"
          ]
        }
      ]
    },
    {
      "cell_type": "code",
      "source": [
        "talkToEachOther(\"pramod\",\"sneha\")"
      ],
      "metadata": {
        "colab": {
          "base_uri": "https://localhost:8080/"
        },
        "id": "S6QBFryEXVSa",
        "outputId": "433a0e07-317a-475b-e250-22838861a206"
      },
      "execution_count": 20,
      "outputs": [
        {
          "output_type": "stream",
          "name": "stdout",
          "text": [
            "pramod says, Hello sneha!\n"
          ]
        }
      ]
    },
    {
      "cell_type": "code",
      "source": [],
      "metadata": {
        "id": "X9cgOpxmXxe9"
      },
      "execution_count": null,
      "outputs": []
    },
    {
      "cell_type": "code",
      "source": [
        "howAreYou()"
      ],
      "metadata": {
        "colab": {
          "base_uri": "https://localhost:8080/"
        },
        "id": "CsjGVpvFQBPt",
        "outputId": "9da34b7a-2eee-4d23-9555-a147569b4c03"
      },
      "execution_count": 18,
      "outputs": [
        {
          "output_type": "stream",
          "name": "stdout",
          "text": [
            "I am feeling bored\n"
          ]
        }
      ]
    },
    {
      "cell_type": "code",
      "source": [
        "howAreYou2(\"pramod\")"
      ],
      "metadata": {
        "colab": {
          "base_uri": "https://localhost:8080/"
        },
        "id": "TysrhDmtRaxy",
        "outputId": "095a63bf-ba88-45ab-d5db-feaf50304e73"
      },
      "execution_count": 24,
      "outputs": [
        {
          "output_type": "stream",
          "name": "stdout",
          "text": [
            "pramod is feeling bored\n"
          ]
        }
      ]
    }
  ]
}