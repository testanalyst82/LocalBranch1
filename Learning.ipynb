{
  "nbformat": 4,
  "nbformat_minor": 0,
  "metadata": {
    "colab": {
      "provenance": [],
      "toc_visible": true,
      "authorship_tag": "ABX9TyPjwJ1ftD+ex7bXWvJmM+N7",
      "include_colab_link": true
    },
    "kernelspec": {
      "name": "python3",
      "display_name": "Python 3"
    },
    "language_info": {
      "name": "python"
    }
  },
  "cells": [
    {
      "cell_type": "markdown",
      "metadata": {
        "id": "view-in-github",
        "colab_type": "text"
      },
      "source": [
        "<a href=\"https://colab.research.google.com/github/testanalyst82/LocalBranch1/blob/master/Learning.ipynb\" target=\"_parent\"><img src=\"https://colab.research.google.com/assets/colab-badge.svg\" alt=\"Open In Colab\"/></a>"
      ]
    },
    {
      "cell_type": "code",
      "execution_count": null,
      "metadata": {
        "id": "sp9ggr7mOaW2"
      },
      "outputs": [],
      "source": [
        "def howAreYou():\n",
        "  print(\"I am feeling bored\")"
      ]
    },
    {
      "cell_type": "code",
      "source": [
        "def howAreYou(name):\n",
        "  print(\"{} is feeling bored\".format(name)) "
      ],
      "metadata": {
        "id": "QiRKWbItRjw1"
      },
      "execution_count": null,
      "outputs": []
    },
    {
      "cell_type": "code",
      "source": [
        "# f-string format\n",
        "def howAreYouAgain(name):\n",
        "  \"\"\"\n",
        "  trying f-string and using docstring for reference\n",
        "  \"\"\"\n",
        "  print(f\"{name} is feeling bored\")\n",
        "  return name"
      ],
      "metadata": {
        "id": "K1kWqMyLX09T"
      },
      "execution_count": null,
      "outputs": []
    },
    {
      "cell_type": "code",
      "source": [
        "#set is unordered and it has no indexing , mutable, unique item\n",
        "# Once a set is created, you cannot change its items, but you can remove items and add new items.\n",
        "# s = {1,2,3,True,v} - will give {1,2,3,v} , since true is considered as 1\n",
        "# Set cannot contain an object that are mutable\n",
        "\n",
        "s={('a','b','c'),'a'} #-> 2 elements with unique hash value \n",
        "s=set('abca') # set function, making a set out of a string and generate {'a','b','c'}\n",
        "s=set([1,2,3,3]) # -> {1,2,3} creating a set out of a list\n",
        "# set takes only 1 argument set('a','b') gives error\n",
        "s=set(['a','b','c'])\n",
        "print(s)"
      ],
      "metadata": {
        "colab": {
          "base_uri": "https://localhost:8080/"
        },
        "id": "h8Odea9HmzOm",
        "outputId": "98ff21f9-fa72-425f-ce89-de1155876499"
      },
      "execution_count": 9,
      "outputs": [
        {
          "output_type": "stream",
          "name": "stdout",
          "text": [
            "{'b', 'a', 'c'}\n"
          ]
        }
      ]
    },
    {
      "cell_type": "code",
      "source": [
        "def talkToEachOther(name1=\"pramod\",name2=\"sneha\"):\n",
        "  print(\"{} says, Hello {}!\".format(name1,name2))"
      ],
      "metadata": {
        "id": "2IyOrC11W4Jh"
      },
      "execution_count": null,
      "outputs": []
    },
    {
      "cell_type": "code",
      "source": [
        "# all the value entered through input is a string\n",
        "name=input(\"Enter your name: \")\n",
        "howAreYou(name)"
      ],
      "metadata": {
        "colab": {
          "base_uri": "https://localhost:8080/"
        },
        "id": "ge95X1LbYyAA",
        "outputId": "c7ec7ecc-ed7b-4f56-f1e7-1f9699d5ff24"
      },
      "execution_count": null,
      "outputs": [
        {
          "output_type": "stream",
          "name": "stdout",
          "text": [
            "Enter your name: pramod\n",
            "pramod is feeling bored\n"
          ]
        }
      ]
    },
    {
      "cell_type": "code",
      "source": [
        "talkToEachOther(\"pramod\",\"sneha\")"
      ],
      "metadata": {
        "colab": {
          "base_uri": "https://localhost:8080/"
        },
        "id": "S6QBFryEXVSa",
        "outputId": "433a0e07-317a-475b-e250-22838861a206"
      },
      "execution_count": null,
      "outputs": [
        {
          "output_type": "stream",
          "name": "stdout",
          "text": [
            "pramod says, Hello sneha!\n"
          ]
        }
      ]
    },
    {
      "cell_type": "code",
      "source": [
        "talkToEachOther()"
      ],
      "metadata": {
        "id": "_WCC2nqnflim",
        "outputId": "1732988f-f436-4b77-ff39-66e6032edd94",
        "colab": {
          "base_uri": "https://localhost:8080/"
        }
      },
      "execution_count": null,
      "outputs": [
        {
          "output_type": "stream",
          "name": "stdout",
          "text": [
            "pramod says, Hello sneha!\n"
          ]
        }
      ]
    },
    {
      "cell_type": "code",
      "source": [],
      "metadata": {
        "id": "X9cgOpxmXxe9"
      },
      "execution_count": null,
      "outputs": []
    },
    {
      "cell_type": "code",
      "source": [
        "howAreYou()"
      ],
      "metadata": {
        "colab": {
          "base_uri": "https://localhost:8080/"
        },
        "id": "CsjGVpvFQBPt",
        "outputId": "9da34b7a-2eee-4d23-9555-a147569b4c03"
      },
      "execution_count": null,
      "outputs": [
        {
          "output_type": "stream",
          "name": "stdout",
          "text": [
            "I am feeling bored\n"
          ]
        }
      ]
    },
    {
      "cell_type": "markdown",
      "source": [
        "None is a keyword, not NULL. When a default value is assigned to an \n",
        "\n",
        "argument, make a note of it\n",
        "\n",
        "\n",
        "Typecasting int(\"8.7\") will give error while int(8.7) is correct\n",
        "\n",
        "**List** *is a collection of different data types and we can update the value in a list by accessing the index value*\n",
        "\n",
        "list_1 = [1.1,0.1,True, False]\n",
        "\n",
        "len(list_1)\n",
        "\n",
        "max(list_1) -> Compare Items in the list False is internally considered as 0.\n",
        "\n",
        "min(list_1)\n",
        "\n",
        "*min and max wont work for the list containing a string *\n",
        "\n",
        "list_1 = [1.1,0.1,True, False, \"abc\"]\n",
        "\n",
        "**tuple** *is a unmutable list as we cannot change the value. Use lesser memory than list*\n",
        "\n",
        "tupl_1=(1.1,0.1,True, False)\n",
        "\n",
        "same behavior as in len, min and max\n",
        "\n",
        "for a min and max with (0,1,False,True) -> 0 and 1 will be printed and for (False,True,0,1) -> False and True are printed, because of the order\n",
        "\n",
        "min and max for characters only/ string only will also works['a','b','c'], but not in a combination of string and numbers\n",
        "\n",
        "**Dictionary** is a collection with key value pair\n",
        "dcit1 = {\n",
        "  '001':'Arun',\n",
        "  '002':'Bhavana',\n",
        "  '003':'Meena'\n",
        "}\n",
        "dict[\"001\"] -> gives the value Arun\n",
        "\n",
        "min(dict1)/ max(dict1), works on key and *works for all keys* of same data type\n",
        "dcit2 = {\n",
        "  '001':'Arun',\n",
        "  2:'Bhavana',\n",
        "  '003':'Meena'\n",
        "} min and max won't work here in dcit2\n",
        "\n",
        "\n",
        "hashable -> unique value given to a specific value. And only tuple in a collection is hashable. Only constant is hashable"
      ],
      "metadata": {
        "id": "1wGl27KbaMGK"
      }
    },
    {
      "cell_type": "code",
      "source": [
        "name=howAreYouAgain(\"pramod\")\n",
        "print(name)"
      ],
      "metadata": {
        "colab": {
          "base_uri": "https://localhost:8080/"
        },
        "id": "TysrhDmtRaxy",
        "outputId": "d47f19d4-4ba2-436d-b931-33e86306a524"
      },
      "execution_count": null,
      "outputs": [
        {
          "output_type": "stream",
          "name": "stdout",
          "text": [
            "pramod is feeling bored\n",
            "pramod\n"
          ]
        }
      ]
    }
  ]
}